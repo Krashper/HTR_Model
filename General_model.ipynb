{
 "cells": [
  {
   "cell_type": "markdown",
   "metadata": {},
   "source": [
    "# Общая модель"
   ]
  },
  {
   "cell_type": "markdown",
   "metadata": {},
   "source": [
    "## Импорт библиотек"
   ]
  },
  {
   "cell_type": "code",
   "execution_count": 97,
   "metadata": {},
   "outputs": [],
   "source": [
    "import cv2\n",
    "import tensorflow as tf\n",
    "import numpy as np\n",
    "from PIL import Image\n",
    "from keras.applications.resnet_v2 import ResNet50V2\n",
    "from tensorflow.keras.layers import Conv2D, BatchNormalization, Activation, Conv2DTranspose, Input, Concatenate, MaxPooling2D, Dropout, LSTM, \\\n",
    "Bidirectional, Reshape, Dense\n",
    "from tensorflow.keras import backend as K\n",
    "from keras.models import Model\n",
    "import matplotlib.pyplot as plt\n",
    "import pandas as pd\n",
    "import os"
   ]
  },
  {
   "cell_type": "code",
   "execution_count": 98,
   "metadata": {},
   "outputs": [],
   "source": [
    "gpus = tf.config.experimental.list_physical_devices('GPU')\n",
    "if gpus:\n",
    "    try:\n",
    "        # Разрешить динамическое выделение памяти на GPU\n",
    "        for gpu in gpus:\n",
    "            tf.config.experimental.set_memory_growth(gpu, True)\n",
    "    except RuntimeError as e:\n",
    "        print(e)"
   ]
  },
  {
   "cell_type": "markdown",
   "metadata": {},
   "source": [
    "### Класс для HTR Модели"
   ]
  },
  {
   "cell_type": "code",
   "execution_count": 99,
   "metadata": {},
   "outputs": [],
   "source": [
    "alphabets = 'KКПu}ЗR<лLC4Gm:O28БbЕЧя-fИНЭ’зiЮнВpьЩпгШ|ашIr\\'EР _k>)tдфw0SXГyб7c\"(5MЦйуTF=/ыД6»xPр;ек*AТ9цжdH3zочЖlФvNY+JХмт.«e[Йh\\\\ЁWМB!ъgАх?щэЫV\\n]nsЯсСв,aoDУОю№1иёЛ'"
   ]
  },
  {
   "cell_type": "code",
   "execution_count": 100,
   "metadata": {},
   "outputs": [],
   "source": [
    "class HTRModel:\n",
    "    def __init__(self, alphabets, max_str_len, num_of_characters, num_of_timestamps, htr_weights_path, target_size=(128, 32)):\n",
    "        self.alphabets = alphabets\n",
    "        self.max_str_len = max_str_len\n",
    "        self.num_of_characters = num_of_characters\n",
    "        self.num_of_timestamps = num_of_timestamps\n",
    "        self.htr_weights_path = htr_weights_path\n",
    "        self.target_size = target_size\n",
    "\n",
    "\n",
    "    def __num_to_label(self, num):\n",
    "        ret = \"\"\n",
    "        for ch in num:\n",
    "            if ch == -1:  # CTC Blank\n",
    "                break\n",
    "            else:\n",
    "                ret+=self.alphabets[ch]\n",
    "        return ret\n",
    "\n",
    "    def __get_model(self):\n",
    "        input_data = Input(shape=(self.target_size[0], self.target_size[1], 1), name='input')\n",
    "\n",
    "        inner = Conv2D(16, (3, 3), padding='same', name='conv1', kernel_initializer='he_normal')(input_data)  \n",
    "        inner = BatchNormalization()(inner)\n",
    "        inner = Activation('relu')(inner)\n",
    "        inner = Conv2D(32, (3, 3), padding='same', name='conv2', kernel_initializer='he_normal')(input_data)  \n",
    "        inner = BatchNormalization()(inner)\n",
    "        inner = Activation('relu')(inner)\n",
    "        inner = MaxPooling2D(pool_size=(2, 2), name='max1')(inner)\n",
    "\n",
    "        inner = Conv2D(64, (3, 3), padding='same', name='conv3', kernel_initializer='he_normal')(inner)\n",
    "        inner = BatchNormalization()(inner)\n",
    "        inner = Activation('relu')(inner)\n",
    "        inner = MaxPooling2D(pool_size=(2, 2), name='max2')(inner)\n",
    "        inner = Dropout(0.5)(inner)\n",
    "\n",
    "        inner = Conv2D(128, (3, 3), padding='same', name='conv4', kernel_initializer='he_normal')(inner)\n",
    "        inner = BatchNormalization()(inner)\n",
    "        inner = Activation('relu')(inner)\n",
    "        inner = MaxPooling2D(pool_size=(1, 2), name='max3')(inner)\n",
    "        inner = Dropout(0.5)(inner)\n",
    "\n",
    "        # b to c\n",
    "        inner = Reshape(target_shape=((64, 256)), name='reshape')(inner)\n",
    "        inner = Dense(512, activation='relu', kernel_initializer='he_normal', name='dense1')(inner)\n",
    "\n",
    "        ## RNN\n",
    "        inner = Bidirectional(LSTM(256, return_sequences=True, dropout=0.3), name = 'lstm1')(inner)\n",
    "        inner = Bidirectional(LSTM(256, return_sequences=True, dropout=0.3), name = 'lstm2')(inner)\n",
    "\n",
    "        # Выходной слой\n",
    "        inner = Dense(self.num_of_characters, kernel_initializer='he_normal', name='dense3')(inner)\n",
    "        y_pred = Activation('softmax', name='softmax')(inner)\n",
    "\n",
    "        # Модель\n",
    "        model = Model(inputs=input_data, outputs=y_pred)\n",
    "\n",
    "        return model\n",
    "\n",
    "    \n",
    "    def predict_words(self, segments):\n",
    "        model = self.__get_model()\n",
    "        model.load_weights(self.htr_weights_path)\n",
    "\n",
    "        preds = model.predict(segments)\n",
    "        decoded = K.get_value(K.ctc_decode(preds, input_length=np.ones(preds.shape[0])*preds.shape[1], \n",
    "                                        greedy=True)[0][0])\n",
    "\n",
    "        prediction = []\n",
    "        for i in range(len(decoded)):\n",
    "            prediction.append(self.__num_to_label(decoded[i]))\n",
    "\n",
    "        return prediction\n",
    "\n"
   ]
  },
  {
   "cell_type": "code",
   "execution_count": 101,
   "metadata": {},
   "outputs": [],
   "source": [
    "model = HTRModel(alphabets, 40, len(alphabets) + 1, 64, \"recognizer_model.weights.h5\")"
   ]
  },
  {
   "cell_type": "markdown",
   "metadata": {},
   "source": [
    "## Класс для извлечения текста и его распознавания"
   ]
  },
  {
   "cell_type": "code",
   "execution_count": 105,
   "metadata": {},
   "outputs": [],
   "source": [
    "class TextRecognition:\n",
    "    def __init__(self, images_paths, target_size, seg_weights_path, htr_model, segment_threshold=0.5):\n",
    "        self.images_paths = images_paths\n",
    "        self.target_size = target_size\n",
    "        self.seg_weights_path = seg_weights_path\n",
    "        self.segment_threshold = segment_threshold\n",
    "        self.htr_model = htr_model\n",
    "    \n",
    "    def __prepare_image(self, image_path):\n",
    "        image = Image.open(image_path).convert(\"RGB\")\n",
    "        image = np.array(image) / 255.0  # Нормализация пикселей\n",
    "        resized_image = cv2.resize(image, self.target_size, interpolation=cv2.INTER_CUBIC)\n",
    "        return resized_image\n",
    "    \n",
    "    def __conv_block(self, inputs, num_filters):\n",
    "        x = Conv2D(num_filters, 3, padding=\"same\")(inputs)\n",
    "        x = BatchNormalization()(x)\n",
    "        x = Activation(\"relu\")(x)\n",
    "\n",
    "        x = Conv2D(num_filters, 3, padding=\"same\")(x)\n",
    "        x = BatchNormalization()(x)\n",
    "        x = Activation(\"relu\")(x)\n",
    "\n",
    "        return x\n",
    "\n",
    "    def __decoder_block(self, inputs, skip_features, num_filters):\n",
    "        x = Conv2DTranspose(num_filters, (2, 2), strides=2, padding=\"same\")(inputs)\n",
    "        x = Concatenate()([x, skip_features])\n",
    "        x = self.__conv_block(x, num_filters)\n",
    "\n",
    "        return x\n",
    "\n",
    "    def __build_unet_resnet_model(self, channels=3):\n",
    "        '''Input layer'''\n",
    "        inputs = Input((self.target_size[0], self.target_size[1], channels))\n",
    "        \n",
    "        '''Pre-trained ResNet50V2'''\n",
    "        resnet50 = ResNet50V2(include_top=False, weights=\"imagenet\", input_tensor=inputs)\n",
    "\n",
    "        for layer in resnet50.layers:\n",
    "            layer.trainable = False\n",
    "        \n",
    "        '''Skip connections'''\n",
    "        s1 = inputs  # 1024\n",
    "        s2 = resnet50.get_layer(\"conv1_conv\").output  # 512\n",
    "        s3 = resnet50.get_layer(\"conv2_block3_1_relu\").output  # 256\n",
    "        s4 = resnet50.get_layer(\"conv3_block4_1_relu\").output  # 128\n",
    "\n",
    "        '''Bridge'''\n",
    "        b1 = resnet50.get_layer(\"conv4_block6_1_relu\").output  # 64\n",
    "\n",
    "        '''Decoder'''\n",
    "        d1 = self.__decoder_block(b1, s4, 256)  # 128\n",
    "        d2 = self.__decoder_block(d1, s3, 128)  # 256\n",
    "        d3 = self.__decoder_block(d2, s2, 64)  # 512\n",
    "        d4 = self.__decoder_block(d3, s1, 32)  # 1024\n",
    "\n",
    "        '''Output Layer'''\n",
    "        outputs = Conv2D(1, 1, padding=\"same\", activation=\"sigmoid\")(d4)\n",
    "        \n",
    "        model = Model(inputs, outputs)\n",
    "        return model\n",
    "\n",
    "    def __get_segmentation(self, images):\n",
    "        model = self.__build_unet_resnet_model()\n",
    "        model.load_weights(self.seg_weights_path)\n",
    "        pred_mask = model.predict(images)\n",
    "        binary_prediction = (pred_mask >= self.segment_threshold).astype(np.uint8)\n",
    "        return binary_prediction\n",
    "\n",
    "    def __adjust_contrast(self, image):\n",
    "        return tf.image.adjust_contrast(image, 2)\n",
    "\n",
    "    def __distortion_free_resize(self, image, img_size):\n",
    "        w, h = img_size\n",
    "        image = tf.image.resize(image, size=(h, w), preserve_aspect_ratio=True)\n",
    "\n",
    "        # Определяем отступы\n",
    "        pad_height = h - tf.shape(image)[0]\n",
    "        pad_width = w - tf.shape(image)[1]\n",
    "\n",
    "        pad_height_top = pad_height // 2\n",
    "        pad_height_bottom = pad_height - pad_height_top\n",
    "        pad_width_left = pad_width // 2\n",
    "        pad_width_right = pad_width - pad_width_left\n",
    "\n",
    "        image = tf.pad(\n",
    "            image,\n",
    "            paddings=[\n",
    "                [pad_height_top, pad_height_bottom],\n",
    "                [pad_width_left, pad_width_right],\n",
    "                [0, 0]\n",
    "            ]\n",
    "        )\n",
    "\n",
    "        image = tf.transpose(image, perm=[1, 0, 2])\n",
    "        image = tf.image.flip_left_right(image)\n",
    "\n",
    "        return image\n",
    "\n",
    "    # ✅ Исправленный метод для обработки изображений в виде list\n",
    "    def __preprocess_image(self, image_list, target_size=(128, 32)):\n",
    "        # Преобразуем list в numpy-массив, затем в tf.Tensor\n",
    "        image = tf.convert_to_tensor(np.array(image_list), dtype=tf.float32)\n",
    "\n",
    "        # Если изображение 2D, добавляем канал (ч/б изображение)\n",
    "        if len(tf.shape(image)) == 2:\n",
    "            image = tf.expand_dims(image, axis=-1)\n",
    "\n",
    "        if tf.shape(image)[-1] == 3:\n",
    "            image = tf.image.rgb_to_grayscale(image)\n",
    "\n",
    "        image = self.__distortion_free_resize(image, target_size)\n",
    "        image = self.__adjust_contrast(image)\n",
    "        image = tf.image.per_image_standardization(image)\n",
    "\n",
    "        return image\n",
    "    \n",
    "    def __extract_word_segments(self, image_np, mask):\n",
    "        contours, _ = cv2.findContours(mask, cv2.RETR_EXTERNAL, cv2.CHAIN_APPROX_SIMPLE)\n",
    "        word_segments = []\n",
    "\n",
    "        for contour in contours:\n",
    "            x, y, w, h = cv2.boundingRect(contour)\n",
    "            cropped_word = image_np[y:y + h, x:x + w].copy()\n",
    "\n",
    "            word_segments.append(cropped_word)\n",
    "        \n",
    "        return word_segments\n",
    "    \n",
    "    def extract_words(self):\n",
    "        images = [self.__prepare_image(image_path) for image_path in self.images_paths]\n",
    "        images = np.array(images)\n",
    "        pred_segments = self.__get_segmentation(images)\n",
    "\n",
    "        all_words_segments = []\n",
    "        \n",
    "        for image_index, segmented_mask in enumerate(pred_segments):\n",
    "            image_np = (images[image_index] * 255).astype(np.uint8)\n",
    "            words_segments = self.__extract_word_segments(image_np, segmented_mask)\n",
    "            all_words_segments.extend(words_segments)\n",
    "\n",
    "        preds_segments = [self.__preprocess_image(segment) for segment in all_words_segments]\n",
    "\n",
    "        preds_words = self.htr_model.predict_words(tf.stack(preds_segments))\n",
    "\n",
    "        return preds_segments, preds_words\n"
   ]
  },
  {
   "cell_type": "markdown",
   "metadata": {},
   "source": [
    "## Проверка на примере"
   ]
  },
  {
   "cell_type": "code",
   "execution_count": 106,
   "metadata": {},
   "outputs": [],
   "source": [
    "seg_weights_path = \"segmentation_resnet_unet_model.weights.h5\"\n",
    "\n",
    "TR_Model = TextRecognition([\"images/1_19.jpg\"], (1024, 1024), seg_weights_path, model)"
   ]
  },
  {
   "cell_type": "code",
   "execution_count": 107,
   "metadata": {},
   "outputs": [
    {
     "name": "stdout",
     "output_type": "stream",
     "text": [
      "1/1 [==============================] - 0s 401ms/step\n",
      "2/2 [==============================] - 1s 9ms/step\n"
     ]
    }
   ],
   "source": [
    "segments, words = TR_Model.extract_words()"
   ]
  },
  {
   "cell_type": "code",
   "execution_count": 110,
   "metadata": {},
   "outputs": [
    {
     "data": {
      "image/png": "[encoded data removed]",
      "text/plain": [
       "<Figure size 1400x1400 with 5 Axes>"
      ]
     },
     "metadata": {},
     "output_type": "display_data"
    }
   ],
   "source": [
    "plt.figure(figsize=(14, 14))\n",
    "for index, segment in enumerate(segments[:5]):\n",
    "    plt.subplot(1, len(segments[:5]), index+1)\n",
    "    plt.imshow(segment, cmap=\"gray\")\n",
    "    plt.title(words[index])\n",
    "    plt.axis(\"off\")\n",
    "\n",
    "plt.show()"
   ]
  }
 ],
 "metadata": {
  "kernelspec": {
   "display_name": "Python 3",
   "language": "python",
   "name": "python3"
  },
  "language_info": {
   "codemirror_mode": {
    "name": "ipython",
    "version": 3
   },
   "file_extension": ".py",
   "mimetype": "text/x-python",
   "name": "python",
   "nbconvert_exporter": "python",
   "pygments_lexer": "ipython3",
   "version": "3.10.9"
  }
 },
 "nbformat": 4,
 "nbformat_minor": 2
}
